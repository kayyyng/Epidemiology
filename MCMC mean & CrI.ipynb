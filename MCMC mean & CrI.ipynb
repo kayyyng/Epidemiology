{
 "cells": [
  {
   "cell_type": "code",
   "execution_count": 1,
   "metadata": {},
   "outputs": [
    {
     "data": {
      "text/html": [
       "<div>\n",
       "<style scoped>\n",
       "    .dataframe tbody tr th:only-of-type {\n",
       "        vertical-align: middle;\n",
       "    }\n",
       "\n",
       "    .dataframe tbody tr th {\n",
       "        vertical-align: top;\n",
       "    }\n",
       "\n",
       "    .dataframe thead th {\n",
       "        text-align: right;\n",
       "    }\n",
       "</style>\n",
       "<table border=\"1\" class=\"dataframe\">\n",
       "  <thead>\n",
       "    <tr style=\"text-align: right;\">\n",
       "      <th></th>\n",
       "      <th>mean</th>\n",
       "      <th>95% credible interval</th>\n",
       "    </tr>\n",
       "  </thead>\n",
       "  <tbody>\n",
       "    <tr>\n",
       "      <th>0</th>\n",
       "      <td>1.39635</td>\n",
       "      <td>(1.2674987582260624, 1.5252017644688791)</td>\n",
       "    </tr>\n",
       "    <tr>\n",
       "      <th>1</th>\n",
       "      <td>0.785748</td>\n",
       "      <td>(0.5711350378825999, 1.0003613447196753)</td>\n",
       "    </tr>\n",
       "    <tr>\n",
       "      <th>2</th>\n",
       "      <td>0.013526</td>\n",
       "      <td>(-0.0004126294769842779, 0.02746454117513529)</td>\n",
       "    </tr>\n",
       "  </tbody>\n",
       "</table>\n",
       "</div>"
      ],
      "text/plain": [
       "       mean                          95% credible interval\n",
       "0   1.39635       (1.2674987582260624, 1.5252017644688791)\n",
       "1  0.785748       (0.5711350378825999, 1.0003613447196753)\n",
       "2  0.013526  (-0.0004126294769842779, 0.02746454117513529)"
      ]
     },
     "execution_count": 1,
     "metadata": {},
     "output_type": "execute_result"
    }
   ],
   "source": [
    "import numpy as np\n",
    "import pandas as pd\n",
    "from scipy.stats import norm\n",
    "\n",
    "# Generate some data for this demonstration.\n",
    "df = pd.read_csv(\"../R code/mcmc_result/mcmc_res.csv\", header=None)\n",
    "df = df.iloc[(len(df.index)//10):,:] # Remove beginning 10% of data\n",
    "\n",
    "result = pd.DataFrame(index = range(len(df.columns)),columns=[\"mean\",\"95% credible interval\"])\n",
    "for i in range(len(df.columns)):\n",
    "    data = df.iloc[:,i]\n",
    "    mu, std = norm.fit(data)\n",
    "    result.iloc[i,0] = mu\n",
    "    result.iloc[i,1] = norm.interval(0.95, loc=mu, scale=std)\n",
    "result"
   ]
  },
  {
   "cell_type": "code",
   "execution_count": 2,
   "metadata": {},
   "outputs": [
    {
     "name": "stdout",
     "output_type": "stream",
     "text": [
      "Old result\n"
     ]
    },
    {
     "data": {
      "text/html": [
       "<div>\n",
       "<style scoped>\n",
       "    .dataframe tbody tr th:only-of-type {\n",
       "        vertical-align: middle;\n",
       "    }\n",
       "\n",
       "    .dataframe tbody tr th {\n",
       "        vertical-align: top;\n",
       "    }\n",
       "\n",
       "    .dataframe thead th {\n",
       "        text-align: right;\n",
       "    }\n",
       "</style>\n",
       "<table border=\"1\" class=\"dataframe\">\n",
       "  <thead>\n",
       "    <tr style=\"text-align: right;\">\n",
       "      <th></th>\n",
       "      <th>mean</th>\n",
       "      <th>95% credible interval</th>\n",
       "    </tr>\n",
       "  </thead>\n",
       "  <tbody>\n",
       "    <tr>\n",
       "      <th>0</th>\n",
       "      <td>1.77656</td>\n",
       "      <td>(1.5253892031735519, 2.0277314287901813)</td>\n",
       "    </tr>\n",
       "    <tr>\n",
       "      <th>1</th>\n",
       "      <td>0.90248</td>\n",
       "      <td>(0.7460894457773366, 1.0588703587092794)</td>\n",
       "    </tr>\n",
       "    <tr>\n",
       "      <th>2</th>\n",
       "      <td>0.013588</td>\n",
       "      <td>(-0.0021434525528622184, 0.029319400406179183)</td>\n",
       "    </tr>\n",
       "  </tbody>\n",
       "</table>\n",
       "</div>"
      ],
      "text/plain": [
       "       mean                           95% credible interval\n",
       "0   1.77656        (1.5253892031735519, 2.0277314287901813)\n",
       "1   0.90248        (0.7460894457773366, 1.0588703587092794)\n",
       "2  0.013588  (-0.0021434525528622184, 0.029319400406179183)"
      ]
     },
     "execution_count": 2,
     "metadata": {},
     "output_type": "execute_result"
    }
   ],
   "source": [
    "# Generate some data for this demonstration.\n",
    "df = pd.read_csv(\"../Back-up/20201230 Sequence Annotation from Dr Lam/mcmc_result/mcmc_res.csv\", header=None)\n",
    "df = df.iloc[(len(df.index)//10):,:] # Remove beginning 10% of data\n",
    "\n",
    "old_result = pd.DataFrame(index = range(len(df.columns)),columns=[\"mean\",\"95% credible interval\"])\n",
    "for i in range(len(df.columns)):\n",
    "    data = df.iloc[:,i]\n",
    "    mu, std = norm.fit(data)\n",
    "    old_result.iloc[i,0] = mu\n",
    "    old_result.iloc[i,1] = norm.interval(0.95, loc=mu, scale=std)\n",
    "print(\"Old result\")\n",
    "old_result"
   ]
  }
 ],
 "metadata": {
  "kernelspec": {
   "display_name": "Python 3",
   "language": "python",
   "name": "python3"
  },
  "language_info": {
   "codemirror_mode": {
    "name": "ipython",
    "version": 3
   },
   "file_extension": ".py",
   "mimetype": "text/x-python",
   "name": "python",
   "nbconvert_exporter": "python",
   "pygments_lexer": "ipython3",
   "version": "3.8.3"
  }
 },
 "nbformat": 4,
 "nbformat_minor": 4
}
